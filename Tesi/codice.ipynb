{
 "cells": [
  {
   "cell_type": "markdown",
   "id": "260bc7c2",
   "metadata": {},
   "source": [
    "# Esempio di codice in Python (usando SageMath)\n",
    "\n",
    "Questo codice analizza una versione semplificata di Poseidon 2 con crittoanalisi differenziale e lineare. Supponiamo:\n",
    "\n",
    "- **S-box**: \\( x^3 \\) in \\( \\mathbb{F}_{2^5} \\) (campo finito semplice per testing).\n",
    "- **MixLayer**: Una matrice \\( M \\), random ma invertibile.\n",
    "- **Round semplificati**: 3 (invece di 8+)."
   ]
  },
  {
   "cell_type": "code",
   "execution_count": 2,
   "id": "6d3ce65c",
   "metadata": {},
   "outputs": [
    {
     "ename": "ModuleNotFoundError",
     "evalue": "No module named 'sage'",
     "output_type": "error",
     "traceback": [
      "\u001b[0;31m---------------------------------------------------------------------------\u001b[0m",
      "\u001b[0;31mModuleNotFoundError\u001b[0m                       Traceback (most recent call last)",
      "Cell \u001b[0;32mIn[2], line 1\u001b[0m\n\u001b[0;32m----> 1\u001b[0m \u001b[38;5;28;01mfrom\u001b[39;00m\u001b[38;5;250m \u001b[39m\u001b[38;5;21;01msage\u001b[39;00m\u001b[38;5;21;01m.\u001b[39;00m\u001b[38;5;21;01mcrypto\u001b[39;00m\u001b[38;5;21;01m.\u001b[39;00m\u001b[38;5;21;01msbox\u001b[39;00m\u001b[38;5;250m \u001b[39m\u001b[38;5;28;01mimport\u001b[39;00m SBox\n\u001b[1;32m      2\u001b[0m \u001b[38;5;28;01mimport\u001b[39;00m\u001b[38;5;250m \u001b[39m\u001b[38;5;21;01mnumpy\u001b[39;00m\u001b[38;5;250m \u001b[39m\u001b[38;5;28;01mas\u001b[39;00m\u001b[38;5;250m \u001b[39m\u001b[38;5;21;01mnp\u001b[39;00m\n\u001b[1;32m      4\u001b[0m \u001b[38;5;66;03m# Parametri\u001b[39;00m\n",
      "\u001b[0;31mModuleNotFoundError\u001b[0m: No module named 'sage'"
     ]
    }
   ],
   "source": [
    "from sage.crypto.sbox import SBox\n",
    "import numpy as np\n",
    "\n",
    "# Parametri\n",
    "n = 5  # Dimensione campo finito (2^5 per semplicità)\n",
    "F = GF(2^n)\n",
    "R = 3  # Round semplificati\n",
    "\n",
    "# S-box: x^3\n",
    "sbox = SBox([(F.fetch_int(x)^3).integer_representation() for x in range(2^n)])\n",
    "\n",
    "# MixLayer: Matrice random invertibile (esempio 3x3)\n",
    "M = Matrix(F, [\n",
    "    [1, 2, 3],\n",
    "    [4, 5, 6],\n",
    "    [7, 8, 9]\n",
    "])\n",
    "assert M.is_invertible(), \"M non è invertibile!\""
   ]
  },
  {
   "cell_type": "markdown",
   "id": "2ae12815",
   "metadata": {},
   "source": [
    "Calcoliamo la Difference Distribution Table (DDT) per trovare differenze con alta probabilità."
   ]
  },
  {
   "cell_type": "code",
   "execution_count": null,
   "id": "03a894b9",
   "metadata": {},
   "outputs": [],
   "source": [
    "# Calcolo DDT\n",
    "ddt = sbox.difference_distribution_table()\n",
    "\n",
    "# Trova le differenze con probabilità massima (esclusa la diagonale)\n",
    "max_prob = max(ddt[i][j] for i in range(1, 2^n) for j in range(2^n))\n",
    "best_pairs = [(i, j) for i in range(1, 2^n) for j in range(2^n) if ddt[i][j] == max_prob]\n",
    "\n",
    "print(f\"Migliori coppie differenziali (Δ_in, Δ_out): {best_pairs}, Probabilità: {max_prob/2^n}\")"
   ]
  },
  {
   "cell_type": "markdown",
   "id": "219a287f",
   "metadata": {},
   "source": [
    "Simuliamo un attacco per 1 round:"
   ]
  },
  {
   "cell_type": "code",
   "execution_count": null,
   "id": "e96ea4a8",
   "metadata": {},
   "outputs": [],
   "source": [
    "def round_function(state, round_key):\n",
    "    # Aggiungi round key\n",
    "    state = [s + round_key[i] for i, s in enumerate(state)]\n",
    "    # S-box\n",
    "    state = [sbox(s) for s in state]\n",
    "    # MixLayer\n",
    "    state = M * vector(state)\n",
    "    return list(state)\n",
    "\n",
    "# Esempio di differenza Δ_in = [1, 0, 0]\n",
    "delta_in = [F.fetch_int(1), F.fetch_int(0), F.fetch_int(0)]\n",
    "round_key = [F.fetch_int(0)] * 3  # Chiave nulla per semplicità\n",
    "\n",
    "# Calcola Δ_out dopo 1 round\n",
    "state1 = round_function(delta_in, round_key)\n",
    "state2 = round_function([F.fetch_int(0)] * 3, round_key)\n",
    "delta_out = [a - b for a, b in zip(state1, state2)]\n",
    "\n",
    "print(\"Differenza dopo 1 round:\", [x.integer_representation() for x in delta_out])"
   ]
  },
  {
   "cell_type": "markdown",
   "id": "a3c2f707",
   "metadata": {},
   "source": [
    "Calcoliamo la Linear Approximation Table (LAT) per trovare maschere lineari:"
   ]
  },
  {
   "cell_type": "code",
   "execution_count": null,
   "id": "c9d5c9b7",
   "metadata": {},
   "outputs": [],
   "source": [
    "# Calcolo LAT\n",
    "lat = sbox.linear_approximation_table()\n",
    "\n",
    "# Trova gli sbilanciamenti massimi (escluso lo 0)\n",
    "max_bias = max(abs(lat[i][j]) for i in range(1, 2^n) for j in range(1, 2^n))\n",
    "best_masks = [(i, j) for i in range(1, 2^n) for j in range(1, 2^n) if abs(lat[i][j]) == max_bias]\n",
    "\n",
    "print(f\"Migliori maschere (input, output): {best_masks}, Sbilanciamento: {max_bias/2^n}\")"
   ]
  },
  {
   "cell_type": "markdown",
   "id": "16dd1a74",
   "metadata": {},
   "source": [
    "Ecco come combinare i risultati per un attacco su 3 round:"
   ]
  },
  {
   "cell_type": "code",
   "execution_count": null,
   "id": "ec4eff51",
   "metadata": {},
   "outputs": [],
   "source": [
    "# Simulazione di un attacco differenziale su 3 round\n",
    "def poseidon_3rounds(input_state, keys):\n",
    "    state = input_state.copy()\n",
    "    for k in range(R):\n",
    "        state = round_function(state, keys[k])\n",
    "    return state\n",
    "\n",
    "# Genera coppie di input con differenza Δ_in\n",
    "delta_in = [F.fetch_int(1), F.fetch_int(0), F.fetch_int(0)]\n",
    "input1 = [F.fetch_int(0), F.fetch_int(0), F.fetch_int(0)]\n",
    "input2 = [a + b for a, b in zip(input1, delta_in)]\n",
    "\n",
    "keys = [[F.fetch_int(i + j) for j in range(3)] for i in range(R)]  # Chiavi random\n",
    "\n",
    "output1 = poseidon_3rounds(input1, keys)\n",
    "output2 = poseidon_3rounds(input2, keys)\n",
    "delta_out = [a - b for a, b in zip(output1, output2)]\n",
    "\n",
    "print(\"Differenza finale:\", [x.integer_representation() for x in delta_out])"
   ]
  }
 ],
 "metadata": {
  "kernelspec": {
   "display_name": ".venv",
   "language": "python",
   "name": "python3"
  },
  "language_info": {
   "codemirror_mode": {
    "name": "ipython",
    "version": 3
   },
   "file_extension": ".py",
   "mimetype": "text/x-python",
   "name": "python",
   "nbconvert_exporter": "python",
   "pygments_lexer": "ipython3",
   "version": "3.10.16"
  }
 },
 "nbformat": 4,
 "nbformat_minor": 5
}
